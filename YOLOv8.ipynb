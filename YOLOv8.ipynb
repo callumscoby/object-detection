{
  "nbformat": 4,
  "nbformat_minor": 0,
  "metadata": {
    "colab": {
      "provenance": [],
      "mount_file_id": "1dNPXCdWA-q-_qtrnYo91HD9QR8I9bdaH",
      "authorship_tag": "ABX9TyO8XBlFEXNgrisiFlfsTzHY",
      "include_colab_link": true
    },
    "kernelspec": {
      "name": "python3",
      "display_name": "Python 3"
    },
    "language_info": {
      "name": "python"
    }
  },
  "cells": [
    {
      "cell_type": "markdown",
      "metadata": {
        "id": "view-in-github",
        "colab_type": "text"
      },
      "source": [
        "<a href=\"https://colab.research.google.com/github/callumscoby/object-detection/blob/main/YOLOv8.ipynb\" target=\"_parent\"><img src=\"https://colab.research.google.com/assets/colab-badge.svg\" alt=\"Open In Colab\"/></a>"
      ]
    },
    {
      "cell_type": "code",
      "source": [
        "ROOT_DIR = '/content/drive/MyDrive/data'"
      ],
      "metadata": {
        "id": "45zkooOgb0Sk"
      },
      "execution_count": null,
      "outputs": []
    },
    {
      "cell_type": "code",
      "source": [
        "import os\n",
        "from ultralytics import YOLO\n",
        "\n",
        "model = YOLO(\"yolov8n.yaml\") #Make the model\n",
        "\n",
        "results = model.train(data=os.path.join(ROOT_DIR, 'google_colab_file.yaml'), epochs = 20) #Train the model"
      ],
      "metadata": {
        "id": "ITL6icX5cpgS"
      },
      "execution_count": null,
      "outputs": []
    },
    {
      "cell_type": "code",
      "source": [
        "!scp -r /content/runs '/content/drive/MyDrive/data'"
      ],
      "metadata": {
        "id": "w6F2scjjeU4U",
        "colab": {
          "base_uri": "https://localhost:8080/"
        },
        "outputId": "c6566539-ab24-4485-f1ad-178962674eca"
      },
      "execution_count": null,
      "outputs": [
        {
          "output_type": "stream",
          "name": "stdout",
          "text": [
            "cp: cannot stat '/content/runs': No such file or directory\n"
          ]
        }
      ]
    },
    {
      "cell_type": "code",
      "source": [
        "!yolo task=detect mode=val model='/content/drive/MyDrive/data/runs/detect/train2/weights/best.pt' data = '/content/drive/MyDrive/data/data.yaml'"
      ],
      "metadata": {
        "colab": {
          "base_uri": "https://localhost:8080/"
        },
        "id": "1_qXRQnPM7d9",
        "outputId": "b7876780-b235-4b14-ac8c-6d87720031e4"
      },
      "execution_count": null,
      "outputs": [
        {
          "output_type": "stream",
          "name": "stdout",
          "text": [
            "Ultralytics YOLOv8.0.57 🚀 Python-3.9.16 torch-1.13.1+cu116 CPU\n",
            "YOLOv8n summary (fused): 168 layers, 3005843 parameters, 0 gradients, 8.1 GFLOPs\n",
            "\u001b[34m\u001b[1mval: \u001b[0mScanning /content/drive/MyDrive/data/labels/test... 97 images, 21 backgrounds, 0 corrupt: 100% 97/97 [01:17<00:00,  1.25it/s]\n",
            "\u001b[34m\u001b[1mval: \u001b[0mNew cache created: /content/drive/MyDrive/data/labels/test.cache\n",
            "/usr/local/lib/python3.9/dist-packages/torch/cuda/__init__.py:497: UserWarning: Can't initialize NVML\n",
            "  warnings.warn(\"Can't initialize NVML\")\n",
            "                 Class     Images  Instances      Box(P          R      mAP50  mAP50-95): 100% 7/7 [00:40<00:00,  5.85s/it]\n",
            "                   all         97        103      0.586      0.303      0.393      0.115\n",
            "Speed: 9.4ms preprocess, 333.4ms inference, 0.0ms loss, 2.1ms postprocess per image\n",
            "Results saved to \u001b[1mruns/detect/val13\u001b[0m\n"
          ]
        }
      ]
    },
    {
      "cell_type": "code",
      "source": [
        "!scp -r /content/runs '/content/drive/MyDrive/data'"
      ],
      "metadata": {
        "id": "v_0rEWWVTdXn"
      },
      "execution_count": null,
      "outputs": []
    },
    {
      "cell_type": "code",
      "source": [
        "!yolo task=detect mode=predict model='/content/drive/MyDrive/data/runs/detect/train2/weights/best.pt' conf = 0.10 source = '/content/drive/MyDrive/data/images/predict' save = True\n"
      ],
      "metadata": {
        "id": "bLRISgFgVuOl",
        "colab": {
          "base_uri": "https://localhost:8080/"
        },
        "outputId": "232c929c-6447-40d7-f604-96336b7be755"
      },
      "execution_count": null,
      "outputs": [
        {
          "output_type": "stream",
          "name": "stdout",
          "text": [
            "Ultralytics YOLOv8.0.58 🚀 Python-3.8.10 torch-1.13.1+cu116 CPU\n",
            "YOLOv8n summary (fused): 168 layers, 3005843 parameters, 0 gradients, 8.1 GFLOPs\n",
            "\n",
            "image 1/23 /content/drive/MyDrive/data/images/predict/Screenshot 2023-03-27 at 22.39.22.png: 288x640 2 kilns, 170.4ms\n",
            "image 2/23 /content/drive/MyDrive/data/images/predict/Screenshot 2023-03-27 at 22.40.07.png: 288x640 (no detections), 175.9ms\n",
            "image 3/23 /content/drive/MyDrive/data/images/predict/Screenshot 2023-03-27 at 22.40.32.png: 288x640 3 kilns, 153.3ms\n",
            "image 4/23 /content/drive/MyDrive/data/images/predict/Screenshot 2023-03-27 at 22.41.02.png: 256x640 (no detections), 90.3ms\n",
            "image 5/23 /content/drive/MyDrive/data/images/predict/Screenshot 2023-03-27 at 22.41.27.png: 256x640 2 kilns, 80.2ms\n",
            "image 6/23 /content/drive/MyDrive/data/images/predict/Screenshot 2023-03-27 at 22.41.54.png: 256x640 3 kilns, 87.4ms\n",
            "image 7/23 /content/drive/MyDrive/data/images/predict/Screenshot 2023-03-27 at 22.42.14.png: 288x640 3 kilns, 89.2ms\n",
            "image 8/23 /content/drive/MyDrive/data/images/predict/Screenshot 2023-03-27 at 22.42.55.png: 256x640 3 kilns, 81.3ms\n",
            "image 9/23 /content/drive/MyDrive/data/images/predict/Screenshot 2023-03-27 at 22.43.19.png: 288x640 1 kiln, 90.1ms\n",
            "image 10/23 /content/drive/MyDrive/data/images/predict/Screenshot 2023-03-27 at 22.43.57.png: 224x640 (no detections), 78.4ms\n",
            "image 11/23 /content/drive/MyDrive/data/images/predict/Screenshot 2023-03-27 at 22.44.16.png: 256x640 1 kiln, 84.4ms\n",
            "image 12/23 /content/drive/MyDrive/data/images/predict/Screenshot 2023-03-27 at 22.44.23.png: 320x640 (no detections), 102.6ms\n",
            "image 13/23 /content/drive/MyDrive/data/images/predict/Screenshot 2023-03-27 at 22.45.02.png: 288x640 (no detections), 92.9ms\n",
            "image 14/23 /content/drive/MyDrive/data/images/predict/Screenshot 2023-03-27 at 22.45.36.png: 288x640 5 kilns, 92.3ms\n",
            "image 15/23 /content/drive/MyDrive/data/images/predict/Screenshot 2023-03-27 at 22.46.09.png: 256x640 3 kilns, 83.9ms\n",
            "image 16/23 /content/drive/MyDrive/data/images/predict/Screenshot 2023-03-27 at 22.46.35.png: 256x640 (no detections), 96.7ms\n",
            "image 17/23 /content/drive/MyDrive/data/images/predict/Screenshot 2023-03-27 at 22.46.46.png: 352x640 1 kiln, 117.1ms\n",
            "image 18/23 /content/drive/MyDrive/data/images/predict/Screenshot 2023-03-27 at 22.47.25.png: 288x640 (no detections), 98.1ms\n",
            "image 19/23 /content/drive/MyDrive/data/images/predict/Screenshot 2023-03-27 at 22.47.49.png: 288x640 9 kilns, 89.9ms\n",
            "image 20/23 /content/drive/MyDrive/data/images/predict/Screenshot 2023-03-27 at 22.48.14.png: 256x640 2 kilns, 81.3ms\n",
            "image 21/23 /content/drive/MyDrive/data/images/predict/Screenshot 2023-03-27 at 22.48.38.png: 288x640 1 kiln, 99.2ms\n",
            "image 22/23 /content/drive/MyDrive/data/images/predict/Screenshot 2023-03-27 at 23.08.21.png: 256x640 (no detections), 82.3ms\n",
            "image 23/23 /content/drive/MyDrive/data/images/predict/Screenshot 2023-03-27 at 23.08.49.png: 256x640 3 kilns, 80.7ms\n",
            "Speed: 0.7ms preprocess, 99.9ms inference, 0.7ms postprocess per image at shape (1, 3, 640, 640)\n",
            "Results saved to \u001b[1mruns/detect/predict4\u001b[0m\n"
          ]
        }
      ]
    },
    {
      "cell_type": "code",
      "source": [
        "!scp -r /content/runs '/content/drive/MyDrive/data'"
      ],
      "metadata": {
        "id": "dmluHYR_EBII"
      },
      "execution_count": null,
      "outputs": []
    },
    {
      "cell_type": "code",
      "source": [
        "from google.colab import drive\n",
        "drive.mount('/content/drive')"
      ],
      "metadata": {
        "id": "j-bR1A2OEdPg"
      },
      "execution_count": null,
      "outputs": []
    },
    {
      "cell_type": "code",
      "source": [],
      "metadata": {
        "id": "27Toco15Eefh"
      },
      "execution_count": null,
      "outputs": []
    }
  ]
}